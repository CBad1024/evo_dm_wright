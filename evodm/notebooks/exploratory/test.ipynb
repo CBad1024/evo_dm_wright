{
 "cells": [
  {
   "cell_type": "markdown",
   "id": "bfa898df",
   "metadata": {
    "id": "bfa898df"
   },
   "source": [
    "Project file using Wright Fischer model"
   ]
  },
  {
   "cell_type": "code",
   "id": "d6c8f50a",
   "metadata": {
    "id": "d6c8f50a"
   },
   "source": [
    "!git clone https://github.com/CBad1024/evo_dm_wright.git\n",
    "\n",
    "import os\n",
    "os.chdir('evo_dm_wright')\n",
    "\n",
    "!pip install -e .\n",
    "\n",
    "from evodm.dpsolve import dp_env, backwards_induction, value_iteration, policy_iteration\n",
    "from evodm.evol_game import define_mira_landscapes, evol_env\n",
    "from evodm.learner import DrugSelector, hyperparameters, practice\n",
    "import numpy as np\n",
    "import pandas as pd"
   ],
   "outputs": [],
   "execution_count": null
  },
  {
   "cell_type": "markdown",
   "id": "c6a6cff4",
   "metadata": {
    "id": "c6a6cff4"
   },
   "source": [
    "Definitions go here"
   ]
  },
  {
   "cell_type": "code",
   "id": "7d2a78b2",
   "metadata": {
    "id": "7d2a78b2",
    "ExecuteTime": {
     "end_time": "2025-07-06T15:17:47.593074Z",
     "start_time": "2025-07-06T15:17:47.585568Z"
    }
   },
   "source": [
    "def mira_env():\n",
    "    \"\"\"Initializes the MDP environment and a simulation environment.\"\"\"\n",
    "    drugs = define_mira_landscapes()\n",
    "    # The dp_env is for solving the MDP\n",
    "    envdp = dp_env(N=4, num_drugs=15, drugs=drugs, sigma=0.5)\n",
    "    # The evol_env is for simulating policies\n",
    "    env = evol_env(N=4, drugs=drugs, num_drugs=15, normalize_drugs=False,\n",
    "                   train_input='fitness')\n",
    "    # The DrugSelector agent is for the RL algorithm. It requires an hp object.\n",
    "    hp = hyperparameters()\n",
    "    hp.N = 4 # Ensure N is set for hyperparameters\n",
    "    hp.NUM_DRUGS = 15 # Ensure NUM_DRUGS is set for hyperparameters\n",
    "    learner_env = DrugSelector(hp=hp, drugs=drugs)\n",
    "    learner_env_naive = DrugSelector(hp=hp, drugs=drugs)\n",
    "    return envdp, env, learner_env, learner_env_naive # # Removed for simplicity, can be added back if needed\n",
    "\n",
    "#generate drug sequences using policies from backwards induction,\n",
    "#value iteration, or policy iteration\n",
    "# added here\n",
    "def get_sequences(policy, env, num_episodes=10, episode_length=20, finite_horizon=True):\n",
    "    \"\"\"\n",
    "    Simulates the environment for a number of episodes using a given policy.\n",
    "\n",
    "    Args:\n",
    "        policy (np.array): The policy to follow.\n",
    "        env (evol_env): The simulation environment.\n",
    "        num_episodes (int): The number of simulation episodes.\n",
    "        episode_length (int): The length of each episode.\n",
    "        finite_horizon (bool): Whether the policy is for a finite horizon problem.\n",
    "                               If True, policy is indexed by time step.\n",
    "\n",
    "    Returns:\n",
    "        pd.DataFrame: A dataframe containing the simulation history.\n",
    "    \"\"\"\n",
    "    ep_number_list = []\n",
    "    opt_drug_list = []\n",
    "    time_step_list = []\n",
    "    fitness_list = []\n",
    "\n",
    "    for i in range(num_episodes):\n",
    "        env.reset()\n",
    "        for j in range(episode_length):\n",
    "            current_state_index = np.argmax(env.state_vector)\n",
    "            if finite_horizon:\n",
    "                # For FiniteHorizon, policy is shaped (time_step, state)\n",
    "                action_opt = policy[j, current_state_index]\n",
    "            else:\n",
    "                # For Value/PolicyIteration, policy is shaped (state,)\n",
    "                action_opt = policy[current_state_index]\n",
    "\n",
    "            # evol_env now expects 0-indexed actions\n",
    "            env.action = int(action_opt)\n",
    "            env.step()\n",
    "\n",
    "            #save the optimal drug, time step, and episode number\n",
    "            opt_drug_list.append(env.action)\n",
    "            time_step_list.append(j)\n",
    "            ep_number_list.append(i)\n",
    "            fitness_list.append(np.mean(env.fitness))\n",
    "\n",
    "    results_df = pd.DataFrame({\n",
    "        'episode': ep_number_list,\n",
    "        'time_step': time_step_list,\n",
    "        'drug': opt_drug_list,\n",
    "        'fitness': fitness_list\n",
    "    })\n",
    "    return results_df\n",
    "\n"
   ],
   "outputs": [],
   "execution_count": 7
  },
  {
   "cell_type": "markdown",
   "id": "50b6e0ff",
   "metadata": {
    "id": "50b6e0ff"
   },
   "source": [
    "Main Code here"
   ]
  },
  {
   "cell_type": "code",
   "id": "fd087a2b",
   "metadata": {
    "id": "fd087a2b",
    "ExecuteTime": {
     "end_time": "2025-07-06T15:19:52.256026Z",
     "start_time": "2025-07-06T15:19:52.247826Z"
    }
   },
   "source": [
    "def main():\n",
    "    \"\"\"\n",
    "    Main function to solve the MIRA MDP and evaluate the policies.\n",
    "    \"\"\"\n",
    "    print(\"Initializing MIRA environments (DP and Simulation)...\")\n",
    "    envdp, env, learner_env, learner_env_naive = mira_env() # Removed naive_learner_env from unpack\n",
    "\n",
    "    # --- Solve the MDP using different algorithms ---\n",
    "    print(\"\\nSolving MDP with Backwards Induction (Finite Horizon)...\")\n",
    "    policy_bi, V_bi = backwards_induction(envdp, num_steps=16)\n",
    "    print(\"Policy shape from Backwards Induction:\", policy_bi.shape)\n",
    "\n",
    "    print(\"\\nSolving MDP with Value Iteration...\")\n",
    "    policy_vi, V_vi = value_iteration(envdp)\n",
    "    print(\"Policy shape from Value Iteration:\", policy_vi)\n",
    "\n",
    "    print(\"\\nSolving MDP with Policy Iteration...\")\n",
    "    policy_pi, V_pi = policy_iteration(envdp)\n",
    "    print(\"Policy shape from Policy Iteration:\", policy_pi)\n",
    "\n",
    "    # --- RL Agent Training  ---\n",
    "    print(\"\\nUsing non-naive RL to solve system:\")\n",
    "    print(practice(learner_env, naive=False, standard_practice=True, prev_action= True))\n",
    "    policy_NN = agent_NN.compute_implied_policy(update = True)\n",
    "    print(\"policy shape under non-naive RL: \", policy_NN)\n",
    "\n",
    "    print(\"\\nUsing naive RL agent to solve system...\")\n",
    "    rewards_N, agent_N = practice(learner_env_naive, naive=True, standard_practice=True, prev_action = True)\n",
    "    policy_N = agent_N.compute_implied_policy(update = True)\n",
    "    print(\"policy shape under naive RL: \", policy_N)\n",
    "\n",
    "\n",
    "\n",
    "\n",
    "    # --- Evaluate the policies by simulation ---\n",
    "    print(\"\\nSimulating policy from Backwards Induction...\")\n",
    "    bi_results = get_sequences(policy_bi, env, num_episodes=5, episode_length=envdp.nS, finite_horizon=True)\n",
    "    print(\"Backwards Induction Results (first 5 rows):\")\n",
    "    print(bi_results.to_string())\n",
    "    print(\"\\nAverage fitness under BI policy:\", bi_results['fitness'].mean())\n",
    "\n",
    "    print(\"\\nSimulating policy from Value Iteration...\")\n",
    "    vi_results = get_sequences(policy_vi, env, num_episodes=5, episode_length=envdp.nS, finite_horizon=False)\n",
    "    print(\"Value Iteration Results (first 5 rows):\")\n",
    "    print(vi_results.to_string())\n",
    "    print(\"\\nAverage fitness under VI policy:\", vi_results['fitness'].mean())\n",
    "\n",
    "    print(\"\\nSimulating policy from Policy Iteration...\")\n",
    "    pi_results = get_sequences(policy_pi, env, num_episodes=5, episode_length=envdp.nS, finite_horizon=False)\n",
    "    print(\"Policy Iteration Results (first 5 rows):\")\n",
    "    print(pi_results.to_string())\n",
    "    print(\"\\nAverage fitness under PI policy:\", pi_results['fitness'].mean())\n",
    "\n",
    "\n",
    "    # print(\"\\nSimulating policy from Non-naive RL...\")\n",
    "    # RL_NN_results = get_sequences(policy_NN, env, num_episodes = 5, episode_length=envdp.nS, finite_horizon=True)\n",
    "    # print(\"RL NN results:\")\n",
    "    # print(RL_NN_results.to_string())\n",
    "    # print(\"\\nAverage fitness under RL_NN policy:\", RL_NN_results['fitness'].mean())\n",
    "    #\n",
    "    # print(\"\\nSimulating policy from naive RL...\")\n",
    "    # RL_N_results = get_sequences(policy_N, env, num_episodes = 5, episode_length=envdp.nS, finite_horizon=True)\n",
    "    # print(\"RL NN results:\")\n",
    "    # print(RL_N_results.to_string())\n",
    "    # print(\"\\nAverage fitness under RL_NN policy:\", RL_N_results['fitness'].mean())\n",
    "\n"
   ],
   "outputs": [],
   "execution_count": 14
  },
  {
   "cell_type": "code",
   "id": "72b98aec",
   "metadata": {
    "ExecuteTime": {
     "end_time": "2025-07-06T15:19:44.678097Z",
     "start_time": "2025-07-06T15:19:44.357997Z"
    }
   },
   "source": [
    "main()"
   ],
   "outputs": [
    {
     "name": "stdout",
     "output_type": "stream",
     "text": [
      "Initializing MIRA environments (DP and Simulation)...\n",
      "\n",
      "Solving MDP with Backwards Induction (Finite Horizon)...\n",
      "Policy shape from Backwards Induction: (16, 16)\n",
      "\n",
      "Solving MDP with Value Iteration...\n",
      "Policy shape from Value Iteration: (3, 3, 10, 10, 3, 3, 10, 0, 3, 3, 0, 2, 11, 3, 3, 13)\n",
      "\n",
      "Solving MDP with Policy Iteration...\n",
      "Policy shape from Policy Iteration: (3, 3, 10, 10, 3, 3, 10, 0, 3, 3, 0, 2, 11, 3, 3, 13)\n",
      "\n",
      "Using non-naive RL to solve system:\n"
     ]
    },
    {
     "name": "stderr",
     "output_type": "stream",
     "text": [
      "100%|##########| 1/1 [00:00<00:00, 660.10episodes/s]"
     ]
    },
    {
     "name": "stdout",
     "output_type": "stream",
     "text": [
      "([], <evodm.learner.DrugSelector object at 0x11b28fd10>, [], [])\n"
     ]
    },
    {
     "name": "stderr",
     "output_type": "stream",
     "text": [
      "\n"
     ]
    },
    {
     "ename": "NameError",
     "evalue": "name 'agent_NN' is not defined",
     "output_type": "error",
     "traceback": [
      "\u001B[31m---------------------------------------------------------------------------\u001B[39m",
      "\u001B[31mNameError\u001B[39m                                 Traceback (most recent call last)",
      "\u001B[36mCell\u001B[39m\u001B[36m \u001B[39m\u001B[32mIn[13]\u001B[39m\u001B[32m, line 1\u001B[39m\n\u001B[32m----> \u001B[39m\u001B[32m1\u001B[39m \u001B[43mmain\u001B[49m\u001B[43m(\u001B[49m\u001B[43m)\u001B[49m\n",
      "\u001B[36mCell\u001B[39m\u001B[36m \u001B[39m\u001B[32mIn[11]\u001B[39m\u001B[32m, line 24\u001B[39m, in \u001B[36mmain\u001B[39m\u001B[34m()\u001B[39m\n\u001B[32m     22\u001B[39m \u001B[38;5;28mprint\u001B[39m(\u001B[33m\"\u001B[39m\u001B[38;5;130;01m\\n\u001B[39;00m\u001B[33mUsing non-naive RL to solve system:\u001B[39m\u001B[33m\"\u001B[39m)\n\u001B[32m     23\u001B[39m \u001B[38;5;28mprint\u001B[39m(practice(learner_env, naive=\u001B[38;5;28;01mFalse\u001B[39;00m, standard_practice=\u001B[38;5;28;01mTrue\u001B[39;00m, prev_action= \u001B[38;5;28;01mTrue\u001B[39;00m))\n\u001B[32m---> \u001B[39m\u001B[32m24\u001B[39m policy_NN = \u001B[43magent_NN\u001B[49m.compute_implied_policy(update = \u001B[38;5;28;01mTrue\u001B[39;00m)\n\u001B[32m     25\u001B[39m \u001B[38;5;28mprint\u001B[39m(\u001B[33m\"\u001B[39m\u001B[33mpolicy shape under non-naive RL: \u001B[39m\u001B[33m\"\u001B[39m, policy_NN)\n\u001B[32m     27\u001B[39m \u001B[38;5;28mprint\u001B[39m(\u001B[33m\"\u001B[39m\u001B[38;5;130;01m\\n\u001B[39;00m\u001B[33mUsing naive RL agent to solve system...\u001B[39m\u001B[33m\"\u001B[39m)\n",
      "\u001B[31mNameError\u001B[39m: name 'agent_NN' is not defined"
     ]
    }
   ],
   "execution_count": 13
  }
 ],
 "metadata": {
  "colab": {
   "provenance": []
  },
  "kernelspec": {
   "display_name": "Python 3",
   "language": "python",
   "name": "python3"
  },
  "language_info": {
   "name": "python",
   "version": "3.11.4"
  }
 },
 "nbformat": 4,
 "nbformat_minor": 5
}
