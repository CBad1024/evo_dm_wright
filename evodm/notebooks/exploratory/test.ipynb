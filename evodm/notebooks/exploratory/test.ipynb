{
 "cells": [
  {
   "cell_type": "markdown",
   "id": "bfa898df",
   "metadata": {
    "id": "bfa898df"
   },
   "source": [
    "Project file using Wright Fischer model"
   ]
  },
  {
   "cell_type": "code",
   "id": "d6c8f50a",
   "metadata": {
    "id": "d6c8f50a",
    "ExecuteTime": {
     "end_time": "2025-07-06T15:25:50.962600Z",
     "start_time": "2025-07-06T15:25:49.403380Z"
    }
   },
   "source": [
    "!git clone https://github.com/CBad1024/evo_dm_wright.git\n",
    "\n",
    "import os\n",
    "os.chdir('evo_dm_wright')\n",
    "\n",
    "!pip install -e .\n",
    "\n",
    "from evodm.dpsolve import dp_env, backwards_induction, value_iteration, policy_iteration\n",
    "from evodm.evol_game import define_mira_landscapes, evol_env\n",
    "from evodm.learner import DrugSelector, hyperparameters, practice\n",
    "import numpy as np\n",
    "import pandas as pd"
   ],
   "outputs": [
    {
     "name": "stdout",
     "output_type": "stream",
     "text": [
      "Cloning into 'evo_dm_wright'...\r\n",
      "remote: Enumerating objects: 2059, done.\u001B[K\r\n",
      "remote: Counting objects: 100% (359/359), done.\u001B[K\r\n",
      "remote: Compressing objects: 100% (206/206), done.\u001B[K\r\n",
      "remote: Total 2059 (delta 208), reused 244 (delta 112), pack-reused 1700 (from 1)\u001B[K\r\n",
      "Receiving objects: 100% (2059/2059), 2.84 MiB | 21.54 MiB/s, done.\r\n",
      "Resolving deltas: 100% (1309/1309), done.\r\n",
      "Obtaining file:///Users/chaaranathb/Developer/GitRepo/evo_dm_wright/evodm/notebooks/exploratory/evo_dm_wright/evo_dm_wright\r\n",
      "  Preparing metadata (setup.py) ... \u001B[?25ldone\r\n",
      "\u001B[?25hRequirement already satisfied: tensorflow~=2.18.0 in /Users/chaaranathb/Developer/GitRepo/evo_dm_wright/venv/lib/python3.11/site-packages (from evodm==1.1.2) (2.18.1)\r\n",
      "Requirement already satisfied: numpy in /Users/chaaranathb/Developer/GitRepo/evo_dm_wright/venv/lib/python3.11/site-packages (from evodm==1.1.2) (2.0.2)\r\n",
      "Requirement already satisfied: scipy in /Users/chaaranathb/Developer/GitRepo/evo_dm_wright/venv/lib/python3.11/site-packages (from evodm==1.1.2) (1.16.0)\r\n",
      "Requirement already satisfied: networkx in /Users/chaaranathb/Developer/GitRepo/evo_dm_wright/venv/lib/python3.11/site-packages (from evodm==1.1.2) (3.5)\r\n",
      "Requirement already satisfied: pytest in /Users/chaaranathb/Developer/GitRepo/evo_dm_wright/venv/lib/python3.11/site-packages (from evodm==1.1.2) (8.4.1)\r\n",
      "Requirement already satisfied: tqdm in /Users/chaaranathb/Developer/GitRepo/evo_dm_wright/venv/lib/python3.11/site-packages (from evodm==1.1.2) (4.67.1)\r\n",
      "Requirement already satisfied: pymdptoolbox in /Users/chaaranathb/Developer/GitRepo/evo_dm_wright/venv/lib/python3.11/site-packages (from evodm==1.1.2) (4.0b3)\r\n",
      "Requirement already satisfied: pandas in /Users/chaaranathb/Developer/GitRepo/evo_dm_wright/venv/lib/python3.11/site-packages (from evodm==1.1.2) (2.3.0)\r\n",
      "Requirement already satisfied: matplotlib in /Users/chaaranathb/Developer/GitRepo/evo_dm_wright/venv/lib/python3.11/site-packages (from evodm==1.1.2) (3.10.3)\r\n",
      "Requirement already satisfied: ruptures in /Users/chaaranathb/Developer/GitRepo/evo_dm_wright/venv/lib/python3.11/site-packages (from evodm==1.1.2) (1.1.9)\r\n",
      "Requirement already satisfied: absl-py>=1.0.0 in /Users/chaaranathb/Developer/GitRepo/evo_dm_wright/venv/lib/python3.11/site-packages (from tensorflow~=2.18.0->evodm==1.1.2) (2.3.1)\r\n",
      "Requirement already satisfied: astunparse>=1.6.0 in /Users/chaaranathb/Developer/GitRepo/evo_dm_wright/venv/lib/python3.11/site-packages (from tensorflow~=2.18.0->evodm==1.1.2) (1.6.3)\r\n",
      "Requirement already satisfied: flatbuffers>=24.3.25 in /Users/chaaranathb/Developer/GitRepo/evo_dm_wright/venv/lib/python3.11/site-packages (from tensorflow~=2.18.0->evodm==1.1.2) (25.2.10)\r\n",
      "Requirement already satisfied: gast!=0.5.0,!=0.5.1,!=0.5.2,>=0.2.1 in /Users/chaaranathb/Developer/GitRepo/evo_dm_wright/venv/lib/python3.11/site-packages (from tensorflow~=2.18.0->evodm==1.1.2) (0.6.0)\r\n",
      "Requirement already satisfied: google-pasta>=0.1.1 in /Users/chaaranathb/Developer/GitRepo/evo_dm_wright/venv/lib/python3.11/site-packages (from tensorflow~=2.18.0->evodm==1.1.2) (0.2.0)\r\n",
      "Requirement already satisfied: libclang>=13.0.0 in /Users/chaaranathb/Developer/GitRepo/evo_dm_wright/venv/lib/python3.11/site-packages (from tensorflow~=2.18.0->evodm==1.1.2) (18.1.1)\r\n",
      "Requirement already satisfied: opt-einsum>=2.3.2 in /Users/chaaranathb/Developer/GitRepo/evo_dm_wright/venv/lib/python3.11/site-packages (from tensorflow~=2.18.0->evodm==1.1.2) (3.4.0)\r\n",
      "Requirement already satisfied: packaging in /Users/chaaranathb/Developer/GitRepo/evo_dm_wright/venv/lib/python3.11/site-packages (from tensorflow~=2.18.0->evodm==1.1.2) (25.0)\r\n",
      "Requirement already satisfied: protobuf!=4.21.0,!=4.21.1,!=4.21.2,!=4.21.3,!=4.21.4,!=4.21.5,<6.0.0dev,>=3.20.3 in /Users/chaaranathb/Developer/GitRepo/evo_dm_wright/venv/lib/python3.11/site-packages (from tensorflow~=2.18.0->evodm==1.1.2) (5.29.5)\r\n",
      "Requirement already satisfied: requests<3,>=2.21.0 in /Users/chaaranathb/Developer/GitRepo/evo_dm_wright/venv/lib/python3.11/site-packages (from tensorflow~=2.18.0->evodm==1.1.2) (2.32.4)\r\n",
      "Requirement already satisfied: setuptools in /Users/chaaranathb/Developer/GitRepo/evo_dm_wright/venv/lib/python3.11/site-packages (from tensorflow~=2.18.0->evodm==1.1.2) (75.8.2)\r\n",
      "Requirement already satisfied: six>=1.12.0 in /Users/chaaranathb/Developer/GitRepo/evo_dm_wright/venv/lib/python3.11/site-packages (from tensorflow~=2.18.0->evodm==1.1.2) (1.17.0)\r\n",
      "Requirement already satisfied: termcolor>=1.1.0 in /Users/chaaranathb/Developer/GitRepo/evo_dm_wright/venv/lib/python3.11/site-packages (from tensorflow~=2.18.0->evodm==1.1.2) (3.1.0)\r\n",
      "Requirement already satisfied: typing-extensions>=3.6.6 in /Users/chaaranathb/Developer/GitRepo/evo_dm_wright/venv/lib/python3.11/site-packages (from tensorflow~=2.18.0->evodm==1.1.2) (4.14.1)\r\n",
      "Requirement already satisfied: wrapt>=1.11.0 in /Users/chaaranathb/Developer/GitRepo/evo_dm_wright/venv/lib/python3.11/site-packages (from tensorflow~=2.18.0->evodm==1.1.2) (1.17.2)\r\n",
      "Requirement already satisfied: grpcio<2.0,>=1.24.3 in /Users/chaaranathb/Developer/GitRepo/evo_dm_wright/venv/lib/python3.11/site-packages (from tensorflow~=2.18.0->evodm==1.1.2) (1.73.1)\r\n",
      "Requirement already satisfied: tensorboard<2.19,>=2.18 in /Users/chaaranathb/Developer/GitRepo/evo_dm_wright/venv/lib/python3.11/site-packages (from tensorflow~=2.18.0->evodm==1.1.2) (2.18.0)\r\n",
      "Requirement already satisfied: keras>=3.5.0 in /Users/chaaranathb/Developer/GitRepo/evo_dm_wright/venv/lib/python3.11/site-packages (from tensorflow~=2.18.0->evodm==1.1.2) (3.10.0)\r\n",
      "Requirement already satisfied: h5py>=3.11.0 in /Users/chaaranathb/Developer/GitRepo/evo_dm_wright/venv/lib/python3.11/site-packages (from tensorflow~=2.18.0->evodm==1.1.2) (3.14.0)\r\n",
      "Requirement already satisfied: ml-dtypes<1.0.0,>=0.4.0 in /Users/chaaranathb/Developer/GitRepo/evo_dm_wright/venv/lib/python3.11/site-packages (from tensorflow~=2.18.0->evodm==1.1.2) (0.5.1)\r\n",
      "Requirement already satisfied: tensorflow-io-gcs-filesystem>=0.23.1 in /Users/chaaranathb/Developer/GitRepo/evo_dm_wright/venv/lib/python3.11/site-packages (from tensorflow~=2.18.0->evodm==1.1.2) (0.37.1)\r\n",
      "Requirement already satisfied: contourpy>=1.0.1 in /Users/chaaranathb/Developer/GitRepo/evo_dm_wright/venv/lib/python3.11/site-packages (from matplotlib->evodm==1.1.2) (1.3.2)\r\n",
      "Requirement already satisfied: cycler>=0.10 in /Users/chaaranathb/Developer/GitRepo/evo_dm_wright/venv/lib/python3.11/site-packages (from matplotlib->evodm==1.1.2) (0.12.1)\r\n",
      "Requirement already satisfied: fonttools>=4.22.0 in /Users/chaaranathb/Developer/GitRepo/evo_dm_wright/venv/lib/python3.11/site-packages (from matplotlib->evodm==1.1.2) (4.58.5)\r\n",
      "Requirement already satisfied: kiwisolver>=1.3.1 in /Users/chaaranathb/Developer/GitRepo/evo_dm_wright/venv/lib/python3.11/site-packages (from matplotlib->evodm==1.1.2) (1.4.8)\r\n",
      "Requirement already satisfied: pillow>=8 in /Users/chaaranathb/Developer/GitRepo/evo_dm_wright/venv/lib/python3.11/site-packages (from matplotlib->evodm==1.1.2) (11.3.0)\r\n",
      "Requirement already satisfied: pyparsing>=2.3.1 in /Users/chaaranathb/Developer/GitRepo/evo_dm_wright/venv/lib/python3.11/site-packages (from matplotlib->evodm==1.1.2) (3.2.3)\r\n",
      "Requirement already satisfied: python-dateutil>=2.7 in /Users/chaaranathb/Developer/GitRepo/evo_dm_wright/venv/lib/python3.11/site-packages (from matplotlib->evodm==1.1.2) (2.9.0.post0)\r\n",
      "Requirement already satisfied: pytz>=2020.1 in /Users/chaaranathb/Developer/GitRepo/evo_dm_wright/venv/lib/python3.11/site-packages (from pandas->evodm==1.1.2) (2025.2)\r\n",
      "Requirement already satisfied: tzdata>=2022.7 in /Users/chaaranathb/Developer/GitRepo/evo_dm_wright/venv/lib/python3.11/site-packages (from pandas->evodm==1.1.2) (2025.2)\r\n",
      "Requirement already satisfied: iniconfig>=1 in /Users/chaaranathb/Developer/GitRepo/evo_dm_wright/venv/lib/python3.11/site-packages (from pytest->evodm==1.1.2) (2.1.0)\r\n",
      "Requirement already satisfied: pluggy<2,>=1.5 in /Users/chaaranathb/Developer/GitRepo/evo_dm_wright/venv/lib/python3.11/site-packages (from pytest->evodm==1.1.2) (1.6.0)\r\n",
      "Requirement already satisfied: pygments>=2.7.2 in /Users/chaaranathb/Developer/GitRepo/evo_dm_wright/venv/lib/python3.11/site-packages (from pytest->evodm==1.1.2) (2.19.2)\r\n",
      "Requirement already satisfied: wheel<1.0,>=0.23.0 in /Users/chaaranathb/Developer/GitRepo/evo_dm_wright/venv/lib/python3.11/site-packages (from astunparse>=1.6.0->tensorflow~=2.18.0->evodm==1.1.2) (0.45.1)\r\n",
      "Requirement already satisfied: rich in /Users/chaaranathb/Developer/GitRepo/evo_dm_wright/venv/lib/python3.11/site-packages (from keras>=3.5.0->tensorflow~=2.18.0->evodm==1.1.2) (14.0.0)\r\n",
      "Requirement already satisfied: namex in /Users/chaaranathb/Developer/GitRepo/evo_dm_wright/venv/lib/python3.11/site-packages (from keras>=3.5.0->tensorflow~=2.18.0->evodm==1.1.2) (0.1.0)\r\n",
      "Requirement already satisfied: optree in /Users/chaaranathb/Developer/GitRepo/evo_dm_wright/venv/lib/python3.11/site-packages (from keras>=3.5.0->tensorflow~=2.18.0->evodm==1.1.2) (0.16.0)\r\n",
      "Requirement already satisfied: charset_normalizer<4,>=2 in /Users/chaaranathb/Developer/GitRepo/evo_dm_wright/venv/lib/python3.11/site-packages (from requests<3,>=2.21.0->tensorflow~=2.18.0->evodm==1.1.2) (3.4.2)\r\n",
      "Requirement already satisfied: idna<4,>=2.5 in /Users/chaaranathb/Developer/GitRepo/evo_dm_wright/venv/lib/python3.11/site-packages (from requests<3,>=2.21.0->tensorflow~=2.18.0->evodm==1.1.2) (3.10)\r\n",
      "Requirement already satisfied: urllib3<3,>=1.21.1 in /Users/chaaranathb/Developer/GitRepo/evo_dm_wright/venv/lib/python3.11/site-packages (from requests<3,>=2.21.0->tensorflow~=2.18.0->evodm==1.1.2) (2.5.0)\r\n",
      "Requirement already satisfied: certifi>=2017.4.17 in /Users/chaaranathb/Developer/GitRepo/evo_dm_wright/venv/lib/python3.11/site-packages (from requests<3,>=2.21.0->tensorflow~=2.18.0->evodm==1.1.2) (2025.6.15)\r\n",
      "Requirement already satisfied: markdown>=2.6.8 in /Users/chaaranathb/Developer/GitRepo/evo_dm_wright/venv/lib/python3.11/site-packages (from tensorboard<2.19,>=2.18->tensorflow~=2.18.0->evodm==1.1.2) (3.8.2)\r\n",
      "Requirement already satisfied: tensorboard-data-server<0.8.0,>=0.7.0 in /Users/chaaranathb/Developer/GitRepo/evo_dm_wright/venv/lib/python3.11/site-packages (from tensorboard<2.19,>=2.18->tensorflow~=2.18.0->evodm==1.1.2) (0.7.2)\r\n",
      "Requirement already satisfied: werkzeug>=1.0.1 in /Users/chaaranathb/Developer/GitRepo/evo_dm_wright/venv/lib/python3.11/site-packages (from tensorboard<2.19,>=2.18->tensorflow~=2.18.0->evodm==1.1.2) (3.1.3)\r\n",
      "Requirement already satisfied: MarkupSafe>=2.1.1 in /Users/chaaranathb/Developer/GitRepo/evo_dm_wright/venv/lib/python3.11/site-packages (from werkzeug>=1.0.1->tensorboard<2.19,>=2.18->tensorflow~=2.18.0->evodm==1.1.2) (3.0.2)\r\n",
      "Requirement already satisfied: markdown-it-py>=2.2.0 in /Users/chaaranathb/Developer/GitRepo/evo_dm_wright/venv/lib/python3.11/site-packages (from rich->keras>=3.5.0->tensorflow~=2.18.0->evodm==1.1.2) (3.0.0)\r\n",
      "Requirement already satisfied: mdurl~=0.1 in /Users/chaaranathb/Developer/GitRepo/evo_dm_wright/venv/lib/python3.11/site-packages (from markdown-it-py>=2.2.0->rich->keras>=3.5.0->tensorflow~=2.18.0->evodm==1.1.2) (0.1.2)\r\n",
      "Installing collected packages: evodm\r\n",
      "  Attempting uninstall: evodm\r\n",
      "    Found existing installation: evodm 1.1.2\r\n",
      "    Not uninstalling evodm at /Users/chaaranathb/Developer/GitRepo/evo_dm_wright, outside environment /Users/chaaranathb/Developer/GitRepo/evo_dm_wright/venv\r\n",
      "    Can't uninstall 'evodm'. No files were found to uninstall.\r\n",
      "\u001B[33m  DEPRECATION: Legacy editable install of evodm==1.1.2 from file:///Users/chaaranathb/Developer/GitRepo/evo_dm_wright/evodm/notebooks/exploratory/evo_dm_wright/evo_dm_wright (setup.py develop) is deprecated. pip 25.1 will enforce this behaviour change. A possible replacement is to add a pyproject.toml or enable --use-pep517, and use setuptools >= 64. If the resulting installation is not behaving as expected, try using --config-settings editable_mode=compat. Please consult the setuptools documentation for more information. Discussion can be found at https://github.com/pypa/pip/issues/11457\u001B[0m\u001B[33m\r\n",
      "\u001B[0m  Running setup.py develop for evodm\r\n",
      "Successfully installed evodm-1.1.2\r\n",
      "\r\n",
      "\u001B[1m[\u001B[0m\u001B[34;49mnotice\u001B[0m\u001B[1;39;49m]\u001B[0m\u001B[39;49m A new release of pip is available: \u001B[0m\u001B[31;49m25.0.1\u001B[0m\u001B[39;49m -> \u001B[0m\u001B[32;49m25.1.1\u001B[0m\r\n",
      "\u001B[1m[\u001B[0m\u001B[34;49mnotice\u001B[0m\u001B[1;39;49m]\u001B[0m\u001B[39;49m To update, run: \u001B[0m\u001B[32;49mpip install --upgrade pip\u001B[0m\r\n"
     ]
    }
   ],
   "execution_count": 32
  },
  {
   "cell_type": "markdown",
   "id": "c6a6cff4",
   "metadata": {
    "id": "c6a6cff4"
   },
   "source": [
    "Definitions go here"
   ]
  },
  {
   "cell_type": "code",
   "id": "7d2a78b2",
   "metadata": {
    "id": "7d2a78b2",
    "ExecuteTime": {
     "end_time": "2025-07-06T15:25:53.948723Z",
     "start_time": "2025-07-06T15:25:53.939520Z"
    }
   },
   "source": [
    "def mira_env():\n",
    "    \"\"\"Initializes the MDP environment and a simulation environment.\"\"\"\n",
    "    drugs = define_mira_landscapes()\n",
    "    # The dp_env is for solving the MDP\n",
    "    envdp = dp_env(N=4, num_drugs=15, drugs=drugs, sigma=0.5)\n",
    "    # The evol_env is for simulating policies\n",
    "    env = evol_env(N=4, drugs=drugs, num_drugs=15, normalize_drugs=False,\n",
    "                   train_input='fitness')\n",
    "    # The DrugSelector agent is for the RL algorithm. It requires an hp object.\n",
    "    hp = hyperparameters()\n",
    "    hp.N = 4 # Ensure N is set for hyperparameters\n",
    "    hp.NUM_DRUGS = 15 # Ensure NUM_DRUGS is set for hyperparameters\n",
    "    learner_env = DrugSelector(hp=hp, drugs=drugs)\n",
    "    learner_env_naive = DrugSelector(hp=hp, drugs=drugs)\n",
    "    return envdp, env, learner_env, learner_env_naive # # Removed for simplicity, can be added back if needed\n",
    "\n",
    "#generate drug sequences using policies from backwards induction,\n",
    "#value iteration, or policy iteration\n",
    "# added here\n",
    "def get_sequences(policy, env, num_episodes=10, episode_length=20, finite_horizon=True):\n",
    "    \"\"\"\n",
    "    Simulates the environment for a number of episodes using a given policy.\n",
    "\n",
    "    Args:\n",
    "        policy (np.array): The policy to follow.\n",
    "        env (evol_env): The simulation environment.\n",
    "        num_episodes (int): The number of simulation episodes.\n",
    "        episode_length (int): The length of each episode.\n",
    "        finite_horizon (bool): Whether the policy is for a finite horizon problem.\n",
    "                               If True, policy is indexed by time step.\n",
    "\n",
    "    Returns:\n",
    "        pd.DataFrame: A dataframe containing the simulation history.\n",
    "    \"\"\"\n",
    "    ep_number_list = []\n",
    "    opt_drug_list = []\n",
    "    time_step_list = []\n",
    "    fitness_list = []\n",
    "\n",
    "    for i in range(num_episodes):\n",
    "        env.reset()\n",
    "        for j in range(episode_length):\n",
    "            current_state_index = np.argmax(env.state_vector)\n",
    "            if finite_horizon:\n",
    "                # For FiniteHorizon, policy is shaped (time_step, state)\n",
    "                action_opt = policy[j, current_state_index]\n",
    "            else:\n",
    "                # For Value/PolicyIteration, policy is shaped (state,)\n",
    "                action_opt = policy[current_state_index]\n",
    "\n",
    "            # evol_env now expects 0-indexed actions\n",
    "            env.action = int(action_opt)\n",
    "            env.step()\n",
    "\n",
    "            #save the optimal drug, time step, and episode number\n",
    "            opt_drug_list.append(env.action)\n",
    "            time_step_list.append(j)\n",
    "            ep_number_list.append(i)\n",
    "            fitness_list.append(np.mean(env.fitness))\n",
    "\n",
    "    results_df = pd.DataFrame({\n",
    "        'episode': ep_number_list,\n",
    "        'time_step': time_step_list,\n",
    "        'drug': opt_drug_list,\n",
    "        'fitness': fitness_list\n",
    "    })\n",
    "    return results_df\n",
    "\n"
   ],
   "outputs": [],
   "execution_count": 33
  },
  {
   "cell_type": "markdown",
   "id": "50b6e0ff",
   "metadata": {
    "id": "50b6e0ff"
   },
   "source": [
    "Main Code here"
   ]
  },
  {
   "cell_type": "code",
   "id": "fd087a2b",
   "metadata": {
    "id": "fd087a2b",
    "ExecuteTime": {
     "end_time": "2025-07-06T15:25:56.967849Z",
     "start_time": "2025-07-06T15:25:56.956062Z"
    }
   },
   "source": [
    "def main():\n",
    "    \"\"\"\n",
    "    Main function to solve the MIRA MDP and evaluate the policies.\n",
    "    \"\"\"\n",
    "    print(\"Initializing MIRA environments (DP and Simulation)...\")\n",
    "    envdp, env, learner_env, learner_env_naive = mira_env() # Removed naive_learner_env from unpack\n",
    "\n",
    "    # --- Solve the MDP using different algorithms ---\n",
    "    print(\"\\nSolving MDP with Backwards Induction (Finite Horizon)...\")\n",
    "    policy_bi, V_bi = backwards_induction(envdp, num_steps=16)\n",
    "    print(\"Policy shape from Backwards Induction:\", policy_bi.shape)\n",
    "\n",
    "    print(\"\\nSolving MDP with Value Iteration...\")\n",
    "    policy_vi, V_vi = value_iteration(envdp)\n",
    "    print(\"Policy shape from Value Iteration:\", policy_vi)\n",
    "\n",
    "    print(\"\\nSolving MDP with Policy Iteration...\")\n",
    "    policy_pi, V_pi = policy_iteration(envdp)\n",
    "    print(\"Policy shape from Policy Iteration:\", policy_pi)\n",
    "\n",
    "    # --- RL Agent Training  ---\n",
    "    print(\"\\nUsing non-naive RL to solve system:\")\n",
    "    print(practice(learner_env, naive=False, standard_practice=True, prev_action= True))\n",
    "    policy_NN = agent_NN.compute_implied_policy(update = True)\n",
    "    print(\"policy shape under non-naive RL: \", policy_NN)\n",
    "\n",
    "    print(\"\\nUsing naive RL agent to solve system...\")\n",
    "    rewards_N, agent_N = practice(learner_env_naive, naive=True, standard_practice=True, prev_action = True)\n",
    "    policy_N = agent_N.compute_implied_policy(update = True)\n",
    "    print(\"policy shape under naive RL: \", policy_N)\n",
    "\n",
    "\n",
    "\n",
    "\n",
    "    # --- Evaluate the policies by simulation ---\n",
    "    print(\"\\nSimulating policy from Backwards Induction...\")\n",
    "    bi_results = get_sequences(policy_bi, env, num_episodes=5, episode_length=envdp.nS, finite_horizon=True)\n",
    "    print(\"Backwards Induction Results (first 5 rows):\")\n",
    "    print(bi_results.to_string())\n",
    "    print(\"\\nAverage fitness under BI policy:\", bi_results['fitness'].mean())\n",
    "\n",
    "    print(\"\\nSimulating policy from Value Iteration...\")\n",
    "    vi_results = get_sequences(policy_vi, env, num_episodes=5, episode_length=envdp.nS, finite_horizon=False)\n",
    "    print(\"Value Iteration Results (first 5 rows):\")\n",
    "    print(vi_results.to_string())\n",
    "    print(\"\\nAverage fitness under VI policy:\", vi_results['fitness'].mean())\n",
    "\n",
    "    print(\"\\nSimulating policy from Policy Iteration...\")\n",
    "    pi_results = get_sequences(policy_pi, env, num_episodes=5, episode_length=envdp.nS, finite_horizon=False)\n",
    "    print(\"Policy Iteration Results (first 5 rows):\")\n",
    "    print(pi_results.to_string())\n",
    "    print(\"\\nAverage fitness under PI policy:\", pi_results['fitness'].mean())\n",
    "\n",
    "\n",
    "    # print(\"\\nSimulating policy from Non-naive RL...\")\n",
    "    # RL_NN_results = get_sequences(policy_NN, env, num_episodes = 5, episode_length=envdp.nS, finite_horizon=True)\n",
    "    # print(\"RL NN results:\")\n",
    "    # print(RL_NN_results.to_string())\n",
    "    # print(\"\\nAverage fitness under RL_NN policy:\", RL_NN_results['fitness'].mean())\n",
    "    #\n",
    "    # print(\"\\nSimulating policy from naive RL...\")\n",
    "    # RL_N_results = get_sequences(policy_N, env, num_episodes = 5, episode_length=envdp.nS, finite_horizon=True)\n",
    "    # print(\"RL NN results:\")\n",
    "    # print(RL_N_results.to_string())\n",
    "    # print(\"\\nAverage fitness under RL_NN policy:\", RL_N_results['fitness'].mean())\n",
    "\n"
   ],
   "outputs": [],
   "execution_count": 34
  },
  {
   "cell_type": "code",
   "id": "72b98aec",
   "metadata": {
    "ExecuteTime": {
     "end_time": "2025-07-06T15:25:59.763212Z",
     "start_time": "2025-07-06T15:25:59.436501Z"
    }
   },
   "source": [
    "main()"
   ],
   "outputs": [
    {
     "name": "stdout",
     "output_type": "stream",
     "text": [
      "Initializing MIRA environments (DP and Simulation)...\n",
      "\n",
      "Solving MDP with Backwards Induction (Finite Horizon)...\n",
      "Policy shape from Backwards Induction: (16, 16)\n",
      "\n",
      "Solving MDP with Value Iteration...\n",
      "Policy shape from Value Iteration: (3, 3, 10, 10, 3, 3, 10, 0, 3, 3, 0, 2, 11, 3, 3, 13)\n",
      "\n",
      "Solving MDP with Policy Iteration...\n",
      "Policy shape from Policy Iteration: (3, 3, 10, 10, 3, 3, 10, 0, 3, 3, 0, 2, 11, 3, 3, 13)\n",
      "\n",
      "Using non-naive RL to solve system:\n"
     ]
    },
    {
     "ename": "AttributeError",
     "evalue": "'DrugSelector' object has no attribute 'EPISODES'",
     "output_type": "error",
     "traceback": [
      "\u001B[31m---------------------------------------------------------------------------\u001B[39m",
      "\u001B[31mAttributeError\u001B[39m                            Traceback (most recent call last)",
      "\u001B[36mCell\u001B[39m\u001B[36m \u001B[39m\u001B[32mIn[35]\u001B[39m\u001B[32m, line 1\u001B[39m\n\u001B[32m----> \u001B[39m\u001B[32m1\u001B[39m \u001B[43mmain\u001B[49m\u001B[43m(\u001B[49m\u001B[43m)\u001B[49m\n",
      "\u001B[36mCell\u001B[39m\u001B[36m \u001B[39m\u001B[32mIn[34]\u001B[39m\u001B[32m, line 23\u001B[39m, in \u001B[36mmain\u001B[39m\u001B[34m()\u001B[39m\n\u001B[32m     21\u001B[39m \u001B[38;5;66;03m# --- RL Agent Training  ---\u001B[39;00m\n\u001B[32m     22\u001B[39m \u001B[38;5;28mprint\u001B[39m(\u001B[33m\"\u001B[39m\u001B[38;5;130;01m\\n\u001B[39;00m\u001B[33mUsing non-naive RL to solve system:\u001B[39m\u001B[33m\"\u001B[39m)\n\u001B[32m---> \u001B[39m\u001B[32m23\u001B[39m \u001B[38;5;28mprint\u001B[39m(\u001B[43mlearner_env\u001B[49m\u001B[43m.\u001B[49m\u001B[43mEPISODES\u001B[49m)\n\u001B[32m     24\u001B[39m \u001B[38;5;28mprint\u001B[39m(practice(learner_env, naive=\u001B[38;5;28;01mFalse\u001B[39;00m, standard_practice=\u001B[38;5;28;01mTrue\u001B[39;00m, prev_action= \u001B[38;5;28;01mTrue\u001B[39;00m))\n\u001B[32m     25\u001B[39m policy_NN = agent_NN.compute_implied_policy(update = \u001B[38;5;28;01mTrue\u001B[39;00m)\n",
      "\u001B[31mAttributeError\u001B[39m: 'DrugSelector' object has no attribute 'EPISODES'"
     ]
    }
   ],
   "execution_count": 35
  }
 ],
 "metadata": {
  "colab": {
   "provenance": []
  },
  "kernelspec": {
   "display_name": "Python 3",
   "language": "python",
   "name": "python3"
  },
  "language_info": {
   "name": "python",
   "version": "3.11.4"
  }
 },
 "nbformat": 4,
 "nbformat_minor": 5
}
