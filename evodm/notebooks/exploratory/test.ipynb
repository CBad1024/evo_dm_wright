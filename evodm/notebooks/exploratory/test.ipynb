{
  "cells": [
    {
      "cell_type": "markdown",
      "id": "bfa898df",
      "metadata": {
        "id": "bfa898df"
      },
      "source": [
        "Project file using Wright Fischer model"
      ]
    },
    {
      "cell_type": "code",
      "execution_count": 2,
      "id": "d6c8f50a",
      "metadata": {
        "id": "d6c8f50a"
      },
      "outputs": [
        {
          "name": "stdout",
          "output_type": "stream",
          "text": [
            "Cloning into 'evo_dm_wright'...\n",
            "remote: Enumerating objects: 2001, done.\u001b[K\n",
            "remote: Counting objects: 100% (301/301), done.\u001b[K\n",
            "remote: Compressing objects: 100% (168/168), done.\u001b[K\n",
            "remote: Total 2001 (delta 187), reused 192 (delta 100), pack-reused 1700 (from 1)\u001b[K\n",
            "Receiving objects: 100% (2001/2001), 2.76 MiB | 6.14 MiB/s, done.\n",
            "Resolving deltas: 100% (1288/1288), done.\n",
            "Defaulting to user installation because normal site-packages is not writeable\n",
            "Obtaining file:///Users/chaaranathb/Developer/GitRepo/evo_dm_wright/evodm/notebooks/exploratory/evo_dm_wright\n",
            "  Preparing metadata (setup.py) ... \u001b[?25ldone\n",
            "\u001b[?25hCollecting tensorflow~=2.18.0 (from evodm==1.1.2)\n",
            "  Downloading tensorflow-2.18.1-cp311-cp311-macosx_12_0_arm64.whl.metadata (4.0 kB)\n",
            "Requirement already satisfied: numpy in /Users/chaaranathb/Library/Python/3.11/lib/python/site-packages (from evodm==1.1.2) (1.26.4)\n",
            "Requirement already satisfied: scipy in /Users/chaaranathb/Library/Python/3.11/lib/python/site-packages (from evodm==1.1.2) (1.13.1)\n",
            "Collecting networkx (from evodm==1.1.2)\n",
            "  Using cached networkx-3.5-py3-none-any.whl.metadata (6.3 kB)\n",
            "Requirement already satisfied: pytest in /Users/chaaranathb/Library/Python/3.11/lib/python/site-packages (from evodm==1.1.2) (7.4.0)\n",
            "Collecting tqdm (from evodm==1.1.2)\n",
            "  Using cached tqdm-4.67.1-py3-none-any.whl.metadata (57 kB)\n",
            "Collecting pymdptoolbox (from evodm==1.1.2)\n",
            "  Using cached pymdptoolbox-4.0-b3.zip (29 kB)\n",
            "  Preparing metadata (setup.py) ... \u001b[?25ldone\n",
            "\u001b[?25hRequirement already satisfied: pandas in /Users/chaaranathb/Library/Python/3.11/lib/python/site-packages (from evodm==1.1.2) (2.2.2)\n",
            "Requirement already satisfied: matplotlib in /Users/chaaranathb/Library/Python/3.11/lib/python/site-packages (from evodm==1.1.2) (3.9.0)\n",
            "Collecting ruptures (from evodm==1.1.2)\n",
            "  Using cached ruptures-1.1.9.tar.gz (308 kB)\n",
            "  Installing build dependencies ... \u001b[?25ldone\n",
            "\u001b[?25h  Getting requirements to build wheel ... \u001b[?25ldone\n",
            "\u001b[?25h  Preparing metadata (pyproject.toml) ... \u001b[?25ldone\n",
            "\u001b[?25hRequirement already satisfied: absl-py>=1.0.0 in /Users/chaaranathb/Library/Python/3.11/lib/python/site-packages (from tensorflow~=2.18.0->evodm==1.1.2) (2.3.0)\n",
            "Requirement already satisfied: astunparse>=1.6.0 in /Users/chaaranathb/Library/Python/3.11/lib/python/site-packages (from tensorflow~=2.18.0->evodm==1.1.2) (1.6.3)\n",
            "Requirement already satisfied: flatbuffers>=24.3.25 in /Users/chaaranathb/Library/Python/3.11/lib/python/site-packages (from tensorflow~=2.18.0->evodm==1.1.2) (25.2.10)\n",
            "Requirement already satisfied: gast!=0.5.0,!=0.5.1,!=0.5.2,>=0.2.1 in /Users/chaaranathb/Library/Python/3.11/lib/python/site-packages (from tensorflow~=2.18.0->evodm==1.1.2) (0.6.0)\n",
            "Requirement already satisfied: google-pasta>=0.1.1 in /Users/chaaranathb/Library/Python/3.11/lib/python/site-packages (from tensorflow~=2.18.0->evodm==1.1.2) (0.2.0)\n",
            "Requirement already satisfied: libclang>=13.0.0 in /Users/chaaranathb/Library/Python/3.11/lib/python/site-packages (from tensorflow~=2.18.0->evodm==1.1.2) (18.1.1)\n",
            "Requirement already satisfied: opt-einsum>=2.3.2 in /Users/chaaranathb/Library/Python/3.11/lib/python/site-packages (from tensorflow~=2.18.0->evodm==1.1.2) (3.4.0)\n",
            "Requirement already satisfied: packaging in /Users/chaaranathb/Library/Python/3.11/lib/python/site-packages (from tensorflow~=2.18.0->evodm==1.1.2) (23.1)\n",
            "Requirement already satisfied: protobuf!=4.21.0,!=4.21.1,!=4.21.2,!=4.21.3,!=4.21.4,!=4.21.5,<6.0.0dev,>=3.20.3 in /Users/chaaranathb/Library/Python/3.11/lib/python/site-packages (from tensorflow~=2.18.0->evodm==1.1.2) (5.29.5)\n",
            "Requirement already satisfied: requests<3,>=2.21.0 in /Users/chaaranathb/Library/Python/3.11/lib/python/site-packages (from tensorflow~=2.18.0->evodm==1.1.2) (2.32.3)\n",
            "Requirement already satisfied: setuptools in /Library/Frameworks/Python.framework/Versions/3.11/lib/python3.11/site-packages (from tensorflow~=2.18.0->evodm==1.1.2) (65.5.0)\n",
            "Requirement already satisfied: six>=1.12.0 in /Users/chaaranathb/Library/Python/3.11/lib/python/site-packages (from tensorflow~=2.18.0->evodm==1.1.2) (1.16.0)\n",
            "Requirement already satisfied: termcolor>=1.1.0 in /Users/chaaranathb/Library/Python/3.11/lib/python/site-packages (from tensorflow~=2.18.0->evodm==1.1.2) (3.1.0)\n",
            "Requirement already satisfied: typing-extensions>=3.6.6 in /Users/chaaranathb/Library/Python/3.11/lib/python/site-packages (from tensorflow~=2.18.0->evodm==1.1.2) (4.14.1)\n",
            "Requirement already satisfied: wrapt>=1.11.0 in /Users/chaaranathb/Library/Python/3.11/lib/python/site-packages (from tensorflow~=2.18.0->evodm==1.1.2) (1.17.2)\n",
            "Requirement already satisfied: grpcio<2.0,>=1.24.3 in /Users/chaaranathb/Library/Python/3.11/lib/python/site-packages (from tensorflow~=2.18.0->evodm==1.1.2) (1.73.1)\n",
            "Collecting tensorboard<2.19,>=2.18 (from tensorflow~=2.18.0->evodm==1.1.2)\n",
            "  Downloading tensorboard-2.18.0-py3-none-any.whl.metadata (1.6 kB)\n",
            "Requirement already satisfied: keras>=3.5.0 in /Users/chaaranathb/Library/Python/3.11/lib/python/site-packages (from tensorflow~=2.18.0->evodm==1.1.2) (3.10.0)\n",
            "Requirement already satisfied: h5py>=3.11.0 in /Users/chaaranathb/Library/Python/3.11/lib/python/site-packages (from tensorflow~=2.18.0->evodm==1.1.2) (3.14.0)\n",
            "Requirement already satisfied: ml-dtypes<1.0.0,>=0.4.0 in /Users/chaaranathb/Library/Python/3.11/lib/python/site-packages (from tensorflow~=2.18.0->evodm==1.1.2) (0.5.1)\n",
            "Requirement already satisfied: tensorflow-io-gcs-filesystem>=0.23.1 in /Users/chaaranathb/Library/Python/3.11/lib/python/site-packages (from tensorflow~=2.18.0->evodm==1.1.2) (0.37.1)\n",
            "Requirement already satisfied: charset-normalizer<4,>=2 in /Users/chaaranathb/Library/Python/3.11/lib/python/site-packages (from requests<3,>=2.21.0->tensorflow~=2.18.0->evodm==1.1.2) (3.4.1)\n",
            "Requirement already satisfied: idna<4,>=2.5 in /Users/chaaranathb/Library/Python/3.11/lib/python/site-packages (from requests<3,>=2.21.0->tensorflow~=2.18.0->evodm==1.1.2) (3.10)\n",
            "Requirement already satisfied: urllib3<3,>=1.21.1 in /Users/chaaranathb/Library/Python/3.11/lib/python/site-packages (from requests<3,>=2.21.0->tensorflow~=2.18.0->evodm==1.1.2) (2.3.0)\n",
            "Requirement already satisfied: certifi>=2017.4.17 in /Users/chaaranathb/Library/Python/3.11/lib/python/site-packages (from requests<3,>=2.21.0->tensorflow~=2.18.0->evodm==1.1.2) (2024.12.14)\n",
            "Requirement already satisfied: markdown>=2.6.8 in /Users/chaaranathb/Library/Python/3.11/lib/python/site-packages (from tensorboard<2.19,>=2.18->tensorflow~=2.18.0->evodm==1.1.2) (3.8.2)\n",
            "Requirement already satisfied: tensorboard-data-server<0.8.0,>=0.7.0 in /Users/chaaranathb/Library/Python/3.11/lib/python/site-packages (from tensorboard<2.19,>=2.18->tensorflow~=2.18.0->evodm==1.1.2) (0.7.2)\n",
            "Requirement already satisfied: werkzeug>=1.0.1 in /Users/chaaranathb/Library/Python/3.11/lib/python/site-packages (from tensorboard<2.19,>=2.18->tensorflow~=2.18.0->evodm==1.1.2) (3.1.3)\n",
            "Requirement already satisfied: wheel<1.0,>=0.23.0 in /Users/chaaranathb/Library/Python/3.11/lib/python/site-packages (from astunparse>=1.6.0->tensorflow~=2.18.0->evodm==1.1.2) (0.45.1)\n",
            "Requirement already satisfied: rich in /Users/chaaranathb/Library/Python/3.11/lib/python/site-packages (from keras>=3.5.0->tensorflow~=2.18.0->evodm==1.1.2) (14.0.0)\n",
            "Requirement already satisfied: namex in /Users/chaaranathb/Library/Python/3.11/lib/python/site-packages (from keras>=3.5.0->tensorflow~=2.18.0->evodm==1.1.2) (0.1.0)\n",
            "Requirement already satisfied: optree in /Users/chaaranathb/Library/Python/3.11/lib/python/site-packages (from keras>=3.5.0->tensorflow~=2.18.0->evodm==1.1.2) (0.16.0)\n",
            "Requirement already satisfied: MarkupSafe>=2.1.1 in /Users/chaaranathb/Library/Python/3.11/lib/python/site-packages (from werkzeug>=1.0.1->tensorboard<2.19,>=2.18->tensorflow~=2.18.0->evodm==1.1.2) (3.0.2)\n",
            "Requirement already satisfied: contourpy>=1.0.1 in /Users/chaaranathb/Library/Python/3.11/lib/python/site-packages (from matplotlib->evodm==1.1.2) (1.2.1)\n",
            "Requirement already satisfied: cycler>=0.10 in /Users/chaaranathb/Library/Python/3.11/lib/python/site-packages (from matplotlib->evodm==1.1.2) (0.12.1)\n",
            "Requirement already satisfied: fonttools>=4.22.0 in /Users/chaaranathb/Library/Python/3.11/lib/python/site-packages (from matplotlib->evodm==1.1.2) (4.51.0)\n",
            "Requirement already satisfied: kiwisolver>=1.3.1 in /Users/chaaranathb/Library/Python/3.11/lib/python/site-packages (from matplotlib->evodm==1.1.2) (1.4.5)\n",
            "Requirement already satisfied: pillow>=8 in /Users/chaaranathb/Library/Python/3.11/lib/python/site-packages (from matplotlib->evodm==1.1.2) (10.3.0)\n",
            "Requirement already satisfied: pyparsing>=2.3.1 in /Users/chaaranathb/Library/Python/3.11/lib/python/site-packages (from matplotlib->evodm==1.1.2) (3.1.2)\n",
            "Requirement already satisfied: python-dateutil>=2.7 in /Users/chaaranathb/Library/Python/3.11/lib/python/site-packages (from matplotlib->evodm==1.1.2) (2.9.0.post0)\n",
            "Requirement already satisfied: pytz>=2020.1 in /Users/chaaranathb/Library/Python/3.11/lib/python/site-packages (from pandas->evodm==1.1.2) (2024.1)\n",
            "Requirement already satisfied: tzdata>=2022.7 in /Users/chaaranathb/Library/Python/3.11/lib/python/site-packages (from pandas->evodm==1.1.2) (2024.1)\n",
            "Requirement already satisfied: iniconfig in /Users/chaaranathb/Library/Python/3.11/lib/python/site-packages (from pytest->evodm==1.1.2) (2.0.0)\n",
            "Requirement already satisfied: pluggy<2.0,>=0.12 in /Users/chaaranathb/Library/Python/3.11/lib/python/site-packages (from pytest->evodm==1.1.2) (1.2.0)\n",
            "Requirement already satisfied: markdown-it-py>=2.2.0 in /Users/chaaranathb/Library/Python/3.11/lib/python/site-packages (from rich->keras>=3.5.0->tensorflow~=2.18.0->evodm==1.1.2) (3.0.0)\n",
            "Requirement already satisfied: pygments<3.0.0,>=2.13.0 in /Users/chaaranathb/Library/Python/3.11/lib/python/site-packages (from rich->keras>=3.5.0->tensorflow~=2.18.0->evodm==1.1.2) (2.18.0)\n",
            "Requirement already satisfied: mdurl~=0.1 in /Users/chaaranathb/Library/Python/3.11/lib/python/site-packages (from markdown-it-py>=2.2.0->rich->keras>=3.5.0->tensorflow~=2.18.0->evodm==1.1.2) (0.1.2)\n",
            "Downloading tensorflow-2.18.1-cp311-cp311-macosx_12_0_arm64.whl (239.5 MB)\n",
            "\u001b[2K   \u001b[90m━━━━━━━━━━━━━━━━━━━━━━━━━━━━━━━━━━━━━━━━\u001b[0m \u001b[32m239.5/239.5 MB\u001b[0m \u001b[31m21.3 MB/s\u001b[0m eta \u001b[36m0:00:00\u001b[0m00:01\u001b[0m00:01\u001b[0m\n",
            "\u001b[?25hDownloading tensorboard-2.18.0-py3-none-any.whl (5.5 MB)\n",
            "\u001b[2K   \u001b[90m━━━━━━━━━━━━━━━━━━━━━━━━━━━━━━━━━━━━━━━━\u001b[0m \u001b[32m5.5/5.5 MB\u001b[0m \u001b[31m19.8 MB/s\u001b[0m eta \u001b[36m0:00:00\u001b[0ma \u001b[36m0:00:01\u001b[0m\n",
            "\u001b[?25hUsing cached networkx-3.5-py3-none-any.whl (2.0 MB)\n",
            "Using cached tqdm-4.67.1-py3-none-any.whl (78 kB)\n",
            "Building wheels for collected packages: pymdptoolbox, ruptures\n",
            "\u001b[33m  DEPRECATION: Building 'pymdptoolbox' using the legacy setup.py bdist_wheel mechanism, which will be removed in a future version. pip 25.3 will enforce this behaviour change. A possible replacement is to use the standardized build interface by setting the `--use-pep517` option, (possibly combined with `--no-build-isolation`), or adding a `pyproject.toml` file to the source tree of 'pymdptoolbox'. Discussion can be found at https://github.com/pypa/pip/issues/6334\u001b[0m\u001b[33m\n",
            "\u001b[0m  Building wheel for pymdptoolbox (setup.py) ... \u001b[?25ldone\n",
            "\u001b[?25h  Created wheel for pymdptoolbox: filename=pymdptoolbox-4.0b3-py3-none-any.whl size=25656 sha256=bfb29e0deff0a7d44b3ae14e5ade204ed9e81f1832dc42de0ab95919f86158c7\n",
            "  Stored in directory: /Users/chaaranathb/Library/Caches/pip/wheels/cc/81/b3/db002373e7a93d9151e9dc9ea1084102b0028f2339724b32a3\n",
            "  Building wheel for ruptures (pyproject.toml) ... \u001b[?25ldone\n",
            "\u001b[?25h  Created wheel for ruptures: filename=ruptures-1.1.9-cp311-cp311-macosx_10_9_universal2.whl size=650190 sha256=d5e8e8d9d055411283425981b08b0ae756e4ee5e9f0624a4cf5414fcf72a75f3\n",
            "  Stored in directory: /Users/chaaranathb/Library/Caches/pip/wheels/91/4b/b2/08e23635050124c9dfc36d6a86ca63f025a8aa86c31a7e011d\n",
            "Successfully built pymdptoolbox ruptures\n",
            "Installing collected packages: tqdm, networkx, tensorboard, ruptures, pymdptoolbox, tensorflow, evodm\n",
            "\u001b[2K  Attempting uninstall: tensorboard━━━━━━━━━━━━━━━━━━━━━━━━━━━━━━━\u001b[0m \u001b[32m1/7\u001b[0m [networkx]\n",
            "\u001b[2K    Found existing installation: tensorboard 2.19.0━━━━━━━━━━━\u001b[0m \u001b[32m1/7\u001b[0m [networkx]\n",
            "\u001b[2K    Uninstalling tensorboard-2.19.0:━━━━━━━━━━━━━━━━━━━━━━━━━━\u001b[0m \u001b[32m1/7\u001b[0m [networkx]\n",
            "\u001b[2K      Successfully uninstalled tensorboard-2.19.0━━━━━━━━━━━━━\u001b[0m \u001b[32m1/7\u001b[0m [networkx]\n",
            "\u001b[2K  Attempting uninstall: tensorflow[90m━━━━━━━━━━━━━━━━━━━━━━━━━━━━\u001b[0m \u001b[32m2/7\u001b[0m [tensorboard]\n",
            "\u001b[2K    Found existing installation: tensorflow 2.19.0━━━━━━━━━━━━\u001b[0m \u001b[32m2/7\u001b[0m [tensorboard]\n",
            "\u001b[2K    Uninstalling tensorflow-2.19.0:━\u001b[0m\u001b[91m╸\u001b[0m\u001b[90m━━━━━━━━━━━\u001b[0m \u001b[32m5/7\u001b[0m [tensorflow]\n",
            "\u001b[2K      Successfully uninstalled tensorflow-2.19.090m━━━━━━━━━━━\u001b[0m \u001b[32m5/7\u001b[0m [tensorflow]\n",
            "\u001b[2K   \u001b[91m━━━━━━━━━━━━━━━━━━━━━━━━━━━━\u001b[0m\u001b[91m╸\u001b[0m\u001b[90m━━━━━━━━━━━\u001b[0m \u001b[32m5/7\u001b[0m [tensorflow]\u001b[33m  DEPRECATION: Legacy editable install of evodm==1.1.2 from file:///Users/chaaranathb/Developer/GitRepo/evo_dm_wright/evodm/notebooks/exploratory/evo_dm_wright (setup.py develop) is deprecated. pip 25.3 will enforce this behaviour change. A possible replacement is to add a pyproject.toml or enable --use-pep517, and use setuptools >= 64. If the resulting installation is not behaving as expected, try using --config-settings editable_mode=compat. Please consult the setuptools documentation for more information. Discussion can be found at https://github.com/pypa/pip/issues/11457\u001b[0m\u001b[33m\n",
            "\u001b[2K  Running setup.py develop for evodm\n",
            "\u001b[2K   \u001b[90m━━━━━━━━━━━━━━━━━━━━━━━━━━━━━━━━━━━━━━━━\u001b[0m \u001b[32m7/7\u001b[0m [evodm]32m6/7\u001b[0m [evodm]]\n",
            "\u001b[1A\u001b[2K\u001b[31mERROR: pip's dependency resolver does not currently take into account all the packages that are installed. This behaviour is the source of the following dependency conflicts.\n",
            "tf-keras 2.19.0 requires tensorflow<2.20,>=2.19, but you have tensorflow 2.18.1 which is incompatible.\u001b[0m\u001b[31m\n",
            "\u001b[0mSuccessfully installed evodm-1.1.2 networkx-3.5 pymdptoolbox-4.0b3 ruptures-1.1.9 tensorboard-2.18.0 tensorflow-2.18.1 tqdm-4.67.1\n"
          ]
        }
      ],
      "source": [
        "!git clone https://github.com/CBad1024/evo_dm_wright.git\n",
        "\n",
        "import os\n",
        "os.chdir('evo_dm_wright')\n",
        "\n",
        "!pip install -e .\n",
        "\n",
        "from evodm.dpsolve import dp_env, backwards_induction, value_iteration, policy_iteration\n",
        "from evodm.evol_game import define_mira_landscapes, evol_env\n",
        "from evodm.learner import DrugSelector, hyperparameters, practice\n",
        "import numpy as np\n",
        "import pandas as pd"
      ]
    },
    {
      "cell_type": "markdown",
      "id": "c6a6cff4",
      "metadata": {
        "id": "c6a6cff4"
      },
      "source": [
        "Definitions go here"
      ]
    },
    {
      "cell_type": "code",
      "execution_count": 4,
      "id": "7d2a78b2",
      "metadata": {
        "id": "7d2a78b2"
      },
      "outputs": [],
      "source": [
        "def mira_env():\n",
        "    \"\"\"Initializes the MDP environment and a simulation environment.\"\"\"\n",
        "    drugs = define_mira_landscapes()\n",
        "    # The dp_env is for solving the MDP\n",
        "    envdp = dp_env(N=4, num_drugs=15, drugs=drugs, sigma=0.5)\n",
        "    # The evol_env is for simulating policies\n",
        "    env = evol_env(N=4, drugs=drugs, num_drugs=15, normalize_drugs=False,\n",
        "                   train_input='fitness')\n",
        "    # The DrugSelector agent is for the RL algorithm. It requires an hp object.\n",
        "    hp = hyperparameters()\n",
        "    hp.N = 4 # Ensure N is set for hyperparameters\n",
        "    hp.NUM_DRUGS = 15 # Ensure NUM_DRUGS is set for hyperparameters\n",
        "    learner_env = DrugSelector(hp=hp, drugs=drugs)\n",
        "    learner_env_naive = DrugSelector(hp=hp, drugs=drugs)\n",
        "    return envdp, env, learner_env, learner_env_naive # # Removed for simplicity, can be added back if needed\n",
        "\n",
        "#generate drug sequences using policies from backwards induction,\n",
        "#value iteration, or policy iteration\n",
        "# added here\n",
        "def get_sequences(policy, env, num_episodes=10, episode_length=20, finite_horizon=True):\n",
        "    \"\"\"\n",
        "    Simulates the environment for a number of episodes using a given policy.\n",
        "\n",
        "    Args:\n",
        "        policy (np.array): The policy to follow.\n",
        "        env (evol_env): The simulation environment.\n",
        "        num_episodes (int): The number of simulation episodes.\n",
        "        episode_length (int): The length of each episode.\n",
        "        finite_horizon (bool): Whether the policy is for a finite horizon problem.\n",
        "                               If True, policy is indexed by time step.\n",
        "\n",
        "    Returns:\n",
        "        pd.DataFrame: A dataframe containing the simulation history.\n",
        "    \"\"\"\n",
        "    ep_number_list = []\n",
        "    opt_drug_list = []\n",
        "    time_step_list = []\n",
        "    fitness_list = []\n",
        "\n",
        "    for i in range(num_episodes):\n",
        "        env.reset()\n",
        "        for j in range(episode_length):\n",
        "            current_state_index = np.argmax(env.state_vector)\n",
        "            if finite_horizon:\n",
        "                # For FiniteHorizon, policy is shaped (time_step, state)\n",
        "                action_opt = policy[j, current_state_index]\n",
        "            else:\n",
        "                # For Value/PolicyIteration, policy is shaped (state,)\n",
        "                action_opt = policy[current_state_index]\n",
        "\n",
        "            # evol_env now expects 0-indexed actions\n",
        "            env.action = int(action_opt)\n",
        "            env.step()\n",
        "\n",
        "            #save the optimal drug, time step, and episode number\n",
        "            opt_drug_list.append(env.action)\n",
        "            time_step_list.append(j)\n",
        "            ep_number_list.append(i)\n",
        "            fitness_list.append(np.mean(env.fitness))\n",
        "\n",
        "    results_df = pd.DataFrame({\n",
        "        'episode': ep_number_list,\n",
        "        'time_step': time_step_list,\n",
        "        'drug': opt_drug_list,\n",
        "        'fitness': fitness_list\n",
        "    })\n",
        "    return results_df\n",
        "\n"
      ]
    },
    {
      "cell_type": "markdown",
      "id": "50b6e0ff",
      "metadata": {
        "id": "50b6e0ff"
      },
      "source": [
        "Main Code here"
      ]
    },
    {
      "cell_type": "code",
      "execution_count": 6,
      "id": "fd087a2b",
      "metadata": {
        "id": "fd087a2b"
      },
      "outputs": [],
      "source": [
        "def main():\n",
        "    \"\"\"\n",
        "    Main function to solve the MIRA MDP and evaluate the policies.\n",
        "    \"\"\"\n",
        "    print(\"Initializing MIRA environments (DP and Simulation)...\")\n",
        "    envdp, env, learner_env, learner_env_naive = mira_env() # Removed naive_learner_env from unpack\n",
        "\n",
        "    # --- Solve the MDP using different algorithms ---\n",
        "    print(\"\\nSolving MDP with Backwards Induction (Finite Horizon)...\")\n",
        "    policy_bi, V_bi = backwards_induction(envdp, num_steps=16)\n",
        "    print(\"Policy shape from Backwards Induction:\", policy_bi.shape)\n",
        "\n",
        "    print(\"\\nSolving MDP with Value Iteration...\")\n",
        "    policy_vi, V_vi = value_iteration(envdp)\n",
        "    print(\"Policy shape from Value Iteration:\", policy_vi)\n",
        "\n",
        "    print(\"\\nSolving MDP with Policy Iteration...\")\n",
        "    policy_pi, V_pi = policy_iteration(envdp)\n",
        "    print(\"Policy shape from Policy Iteration:\", policy_pi)\n",
        "\n",
        "    # --- RL Agent Training  ---\n",
        "    print(\"\\nUsing non-naive RL to solve system:\")\n",
        "    rewards_NN, agent_NN = practice(learner_env, naive=False, standard_practice=True, prev_action= True, compute_implied_policy_bool=True)\n",
        "    policy_NN = agent_NN.compute_implied_policy(update = True)\n",
        "    print(\"policy shape under non-naive RL: \", policy_NN)\n",
        "\n",
        "    print(\"\\nUsing naive RL agent to solve system...\")\n",
        "    reward, agent_N = practice(learner_env_naive, naive=True, standard_practice=True, prev_action = True, compute_implied_policy_bool=True)\n",
        "    policy_N = agent_N.compute_implied_policy(update = True)\n",
        "    print(\"policy shape under naive RL: \", policy_N)\n",
        "\n",
        "\n",
        "\n",
        "\n",
        "    # --- Evaluate the policies by simulation ---\n",
        "    print(\"\\nSimulating policy from Backwards Induction...\")\n",
        "    bi_results = get_sequences(policy_bi, env, num_episodes=5, episode_length=envdp.nS, finite_horizon=True)\n",
        "    print(\"Backwards Induction Results (first 5 rows):\")\n",
        "    print(bi_results.to_string())\n",
        "    print(\"\\nAverage fitness under BI policy:\", bi_results['fitness'].mean())\n",
        "\n",
        "    print(\"\\nSimulating policy from Value Iteration...\")\n",
        "    vi_results = get_sequences(policy_vi, env, num_episodes=5, episode_length=envdp.nS, finite_horizon=False)\n",
        "    print(\"Value Iteration Results (first 5 rows):\")\n",
        "    print(vi_results.to_string())\n",
        "    print(\"\\nAverage fitness under VI policy:\", vi_results['fitness'].mean())\n",
        "\n",
        "    print(\"\\nSimulating policy from Policy Iteration...\")\n",
        "    pi_results = get_sequences(policy_pi, env, num_episodes=5, episode_length=envdp.nS, finite_horizon=False)\n",
        "    print(\"Policy Iteration Results (first 5 rows):\")\n",
        "    print(pi_results.to_string())\n",
        "    print(\"\\nAverage fitness under PI policy:\", pi_results['fitness'].mean())\n",
        "\n",
        "\n",
        "    print(\"\\nSimulating policy from Non-naive RL...\")\n",
        "    RL_NN_results = get_sequences(policy_NN, env, num_episodes = 5, episode_length=envdp.nS, finite_horizon=True)\n",
        "    print(\"RL NN results:\")\n",
        "    print(RL_NN_results.to_string())\n",
        "    print(\"\\nAverage fitness under RL_NN policy:\", RL_NN_results['fitness'].mean())\n",
        "\n",
        "    print(\"\\nSimulating policy from naive RL...\")\n",
        "    RL_N_results = get_sequences(policy_N, env, num_episodes = 5, episode_length=envdp.nS, finite_horizon=True)\n",
        "    print(\"RL NN results:\")\n",
        "    print(RL_N_results.to_string())\n",
        "    print(\"\\nAverage fitness under RL_NN policy:\", RL_N_results['fitness'].mean())\n",
        "\n"
      ]
    },
    {
      "cell_type": "code",
      "execution_count": 7,
      "id": "72b98aec",
      "metadata": {},
      "outputs": [
        {
          "name": "stdout",
          "output_type": "stream",
          "text": [
            "Initializing MIRA environments (DP and Simulation)...\n"
          ]
        },
        {
          "name": "stderr",
          "output_type": "stream",
          "text": [
            "/Users/chaaranathb/Library/Python/3.11/lib/python/site-packages/scipy/sparse/_index.py:108: SparseEfficiencyWarning: Changing the sparsity structure of a csr_matrix is expensive. lil_matrix is more efficient.\n",
            "  self._set_intXint(row, col, x.flat[0])\n",
            "/Users/chaaranathb/Library/Python/3.11/lib/python/site-packages/keras/src/layers/convolutional/base_conv.py:113: UserWarning: Do not pass an `input_shape`/`input_dim` argument to a layer. When using Sequential models, prefer using an `Input(shape)` object as the first layer in the model instead.\n",
            "  super().__init__(activity_regularizer=activity_regularizer, **kwargs)\n"
          ]
        },
        {
          "name": "stdout",
          "output_type": "stream",
          "text": [
            "\n",
            "Solving MDP with Backwards Induction (Finite Horizon)...\n",
            "Policy shape from Backwards Induction: (16, 16)\n",
            "\n",
            "Solving MDP with Value Iteration...\n",
            "Policy shape from Value Iteration: (3, 3, 10, 10, 3, 3, 10, 0, 3, 3, 0, 2, 11, 3, 3, 13)\n",
            "\n",
            "Solving MDP with Policy Iteration...\n",
            "Policy shape from Policy Iteration: (3, 3, 10, 10, 3, 3, 10, 0, 3, 3, 0, 2, 11, 3, 3, 13)\n",
            "\n",
            "Using non-naive RL to solve system:\n"
          ]
        },
        {
          "name": "stderr",
          "output_type": "stream",
          "text": [
            "100%|##########| 1/1 [00:00<00:00,  1.56episodes/s]\n"
          ]
        },
        {
          "ename": "ValueError",
          "evalue": "too many values to unpack (expected 2)",
          "output_type": "error",
          "traceback": [
            "\u001b[0;31m---------------------------------------------------------------------------\u001b[0m",
            "\u001b[0;31mValueError\u001b[0m                                Traceback (most recent call last)",
            "Cell \u001b[0;32mIn[7], line 1\u001b[0m\n\u001b[0;32m----> 1\u001b[0m \u001b[43mmain\u001b[49m\u001b[43m(\u001b[49m\u001b[43m)\u001b[49m\n",
            "Cell \u001b[0;32mIn[6], line 23\u001b[0m, in \u001b[0;36mmain\u001b[0;34m()\u001b[0m\n\u001b[1;32m     21\u001b[0m \u001b[38;5;66;03m# --- RL Agent Training  ---\u001b[39;00m\n\u001b[1;32m     22\u001b[0m \u001b[38;5;28mprint\u001b[39m(\u001b[38;5;124m\"\u001b[39m\u001b[38;5;130;01m\\n\u001b[39;00m\u001b[38;5;124mUsing non-naive RL to solve system:\u001b[39m\u001b[38;5;124m\"\u001b[39m)\n\u001b[0;32m---> 23\u001b[0m rewards_NN, agent_NN \u001b[38;5;241m=\u001b[39m practice(learner_env, naive\u001b[38;5;241m=\u001b[39m\u001b[38;5;28;01mFalse\u001b[39;00m, standard_practice\u001b[38;5;241m=\u001b[39m\u001b[38;5;28;01mTrue\u001b[39;00m, prev_action\u001b[38;5;241m=\u001b[39m \u001b[38;5;28;01mTrue\u001b[39;00m, compute_implied_policy_bool\u001b[38;5;241m=\u001b[39m\u001b[38;5;28;01mTrue\u001b[39;00m)\n\u001b[1;32m     24\u001b[0m policy_NN \u001b[38;5;241m=\u001b[39m agent_NN\u001b[38;5;241m.\u001b[39mcompute_implied_policy(update \u001b[38;5;241m=\u001b[39m \u001b[38;5;28;01mTrue\u001b[39;00m)\n\u001b[1;32m     25\u001b[0m \u001b[38;5;28mprint\u001b[39m(\u001b[38;5;124m\"\u001b[39m\u001b[38;5;124mpolicy shape under non-naive RL: \u001b[39m\u001b[38;5;124m\"\u001b[39m, policy_NN)\n",
            "\u001b[0;31mValueError\u001b[0m: too many values to unpack (expected 2)"
          ]
        }
      ],
      "source": [
        "main()"
      ]
    }
  ],
  "metadata": {
    "colab": {
      "provenance": []
    },
    "kernelspec": {
      "display_name": "Python 3",
      "language": "python",
      "name": "python3"
    },
    "language_info": {
      "name": "python",
      "version": "3.11.4"
    }
  },
  "nbformat": 4,
  "nbformat_minor": 5
}
